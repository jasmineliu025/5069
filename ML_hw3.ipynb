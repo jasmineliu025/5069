{
  "nbformat": 4,
  "nbformat_minor": 0,
  "metadata": {
    "colab": {
      "provenance": []
    },
    "kernelspec": {
      "name": "python3",
      "display_name": "Python 3"
    },
    "language_info": {
      "name": "python"
    }
  },
  "cells": [
    {
      "cell_type": "markdown",
      "source": [
        "## Part A\n",
        "###1.Describe the importance of training and test data.  Why do we separate data into these subsets?"
      ],
      "metadata": {
        "id": "94TtyKr0bo3y"
      }
    },
    {
      "cell_type": "markdown",
      "source": [
        "They are both important but with different purposes.\n",
        "\n",
        "Training data helps us to train the model and help the model recognize how important different variables play roles in regression or classification to the target variables.\n",
        "\n",
        "Test data helps us to identify the capability of model fitting on unseen data. They function differently but both are indispensible.\n",
        "\n",
        "We separate them because first, test data will fit to model to see if there is overfitting problems on train data. Second, Test data will fit the model to new data and see if the model can successfully predict or classify new target variables."
      ],
      "metadata": {
        "id": "25ay5WKkdKHx"
      }
    },
    {
      "cell_type": "markdown",
      "source": [
        "###2.What is k-fold cross validation and what do we use it for?"
      ],
      "metadata": {
        "id": "KBfVaAX8e09i"
      }
    },
    {
      "cell_type": "markdown",
      "source": [
        "K-fold cross validation will separate the data to K parts and the model will be trained on k-1 parts and the remaning 1 part will be the test data, and this process will be repeated k times until each part has been used for test data.\n",
        "\n",
        "K-fold cross validation will make the model to be more reliable and accurate because any part of the data has the chance to function as test data to evaluate the model's ability instead of relying on one test data to measure the model. This would also reduce the risk of overfitting or underfitting of the model."
      ],
      "metadata": {
        "id": "oLA-G-FufCxV"
      }
    },
    {
      "cell_type": "markdown",
      "source": [
        "###3.How is k-fold cross validation different from stratified k-fold cross validation?"
      ],
      "metadata": {
        "id": "DDPbUtsMgXgU"
      }
    },
    {
      "cell_type": "markdown",
      "source": [
        "Stratified K-fold cross validation works better for data with imbalanced distribution especailly in classification tasks, because stratified k-fold will make each data group of k parts with similar distribution with the whole dataset to avoid biased outcomes. The performances of each part will be consistent through different parts, which leads to more reliable result when there are outliers or uneven distribution in the dataset.\n"
      ],
      "metadata": {
        "id": "hae30T_tgbxP"
      }
    },
    {
      "cell_type": "markdown",
      "source": [
        "###4.Name the 4 types of supervised learning models that we have learned thus far that are used to predict categorical dependent variables like whether an email is labeled “spam” or “not spam.”"
      ],
      "metadata": {
        "id": "M8kctWzFiL51"
      }
    },
    {
      "cell_type": "markdown",
      "source": [
        "1.   KNN Classifier\n",
        "2.   Logistic Regressor\n",
        "3.   Support Vector Machines (SVM)\n",
        "4.   Decision Trees\n",
        "\n"
      ],
      "metadata": {
        "id": "4yVoE__ViYbO"
      }
    },
    {
      "cell_type": "markdown",
      "source": [
        "###5.Name the 3 types of supervised learning models that we have learned thus far that are used to predict continuous dependent variables like test scores."
      ],
      "metadata": {
        "id": "NK-_QOv7i2vU"
      }
    },
    {
      "cell_type": "markdown",
      "source": [
        "1.   Linear regressor\n",
        "2.   Ridge Regressor\n",
        "3.   Lasso Regressor\n",
        "\n"
      ],
      "metadata": {
        "id": "U0hYWhUKi8k5"
      }
    },
    {
      "cell_type": "markdown",
      "source": [
        "##Part B\n",
        "###1.Import the spam dataset and print the first six rows.  "
      ],
      "metadata": {
        "id": "C8imzTasjZFs"
      }
    },
    {
      "cell_type": "code",
      "source": [
        "import pandas as pd\n",
        "dt=pd.read_csv(\"/content/spam_dataset.csv\")\n",
        "dt.head(6)"
      ],
      "metadata": {
        "colab": {
          "base_uri": "https://localhost:8080/",
          "height": 287
        },
        "id": "7AecnYlMjgN4",
        "outputId": "55dbfcbc-99bb-433d-e1a4-c86e6a23b7f7"
      },
      "execution_count": 2,
      "outputs": [
        {
          "output_type": "execute_result",
          "data": {
            "text/plain": [
              "   word_freq_make:  word_freq_address:  word_freq_all:  word_freq_3d:  \\\n",
              "0             0.00                0.64            0.64            0.0   \n",
              "1             0.21                0.28            0.50            0.0   \n",
              "2             0.06                0.00            0.71            0.0   \n",
              "3             0.00                0.00            0.00            0.0   \n",
              "4             0.00                0.00            0.00            0.0   \n",
              "5             0.00                0.00            0.00            0.0   \n",
              "\n",
              "   word_freq_our:  word_freq_over:  word_freq_remove:  word_freq_internet:  \\\n",
              "0            0.32             0.00               0.00                 0.00   \n",
              "1            0.14             0.28               0.21                 0.07   \n",
              "2            1.23             0.19               0.19                 0.12   \n",
              "3            0.63             0.00               0.31                 0.63   \n",
              "4            0.63             0.00               0.31                 0.63   \n",
              "5            1.85             0.00               0.00                 1.85   \n",
              "\n",
              "   word_freq_order:  word_freq_mail:  ...  char_freq_;:  char_freq_(:  \\\n",
              "0              0.00             0.00  ...          0.00         0.000   \n",
              "1              0.00             0.94  ...          0.00         0.132   \n",
              "2              0.64             0.25  ...          0.01         0.143   \n",
              "3              0.31             0.63  ...          0.00         0.137   \n",
              "4              0.31             0.63  ...          0.00         0.135   \n",
              "5              0.00             0.00  ...          0.00         0.223   \n",
              "\n",
              "   char_freq_[:  char_freq_!:  char_freq_$:  char_freq_#:  \\\n",
              "0           0.0         0.778         0.000         0.000   \n",
              "1           0.0         0.372         0.180         0.048   \n",
              "2           0.0         0.276         0.184         0.010   \n",
              "3           0.0         0.137         0.000         0.000   \n",
              "4           0.0         0.135         0.000         0.000   \n",
              "5           0.0         0.000         0.000         0.000   \n",
              "\n",
              "   capital_run_length_average:  capital_run_length_longest:  \\\n",
              "0                        3.756                           61   \n",
              "1                        5.114                          101   \n",
              "2                        9.821                          485   \n",
              "3                        3.537                           40   \n",
              "4                        3.537                           40   \n",
              "5                        3.000                           15   \n",
              "\n",
              "   capital_run_length_total:  spam  \n",
              "0                        278     1  \n",
              "1                       1028     1  \n",
              "2                       2259     1  \n",
              "3                        191     1  \n",
              "4                        191     1  \n",
              "5                         54     1  \n",
              "\n",
              "[6 rows x 58 columns]"
            ],
            "text/html": [
              "\n",
              "  <div id=\"df-4fda880e-0a05-48ff-8f2d-ed59193efec6\" class=\"colab-df-container\">\n",
              "    <div>\n",
              "<style scoped>\n",
              "    .dataframe tbody tr th:only-of-type {\n",
              "        vertical-align: middle;\n",
              "    }\n",
              "\n",
              "    .dataframe tbody tr th {\n",
              "        vertical-align: top;\n",
              "    }\n",
              "\n",
              "    .dataframe thead th {\n",
              "        text-align: right;\n",
              "    }\n",
              "</style>\n",
              "<table border=\"1\" class=\"dataframe\">\n",
              "  <thead>\n",
              "    <tr style=\"text-align: right;\">\n",
              "      <th></th>\n",
              "      <th>word_freq_make:</th>\n",
              "      <th>word_freq_address:</th>\n",
              "      <th>word_freq_all:</th>\n",
              "      <th>word_freq_3d:</th>\n",
              "      <th>word_freq_our:</th>\n",
              "      <th>word_freq_over:</th>\n",
              "      <th>word_freq_remove:</th>\n",
              "      <th>word_freq_internet:</th>\n",
              "      <th>word_freq_order:</th>\n",
              "      <th>word_freq_mail:</th>\n",
              "      <th>...</th>\n",
              "      <th>char_freq_;:</th>\n",
              "      <th>char_freq_(:</th>\n",
              "      <th>char_freq_[:</th>\n",
              "      <th>char_freq_!:</th>\n",
              "      <th>char_freq_$:</th>\n",
              "      <th>char_freq_#:</th>\n",
              "      <th>capital_run_length_average:</th>\n",
              "      <th>capital_run_length_longest:</th>\n",
              "      <th>capital_run_length_total:</th>\n",
              "      <th>spam</th>\n",
              "    </tr>\n",
              "  </thead>\n",
              "  <tbody>\n",
              "    <tr>\n",
              "      <th>0</th>\n",
              "      <td>0.00</td>\n",
              "      <td>0.64</td>\n",
              "      <td>0.64</td>\n",
              "      <td>0.0</td>\n",
              "      <td>0.32</td>\n",
              "      <td>0.00</td>\n",
              "      <td>0.00</td>\n",
              "      <td>0.00</td>\n",
              "      <td>0.00</td>\n",
              "      <td>0.00</td>\n",
              "      <td>...</td>\n",
              "      <td>0.00</td>\n",
              "      <td>0.000</td>\n",
              "      <td>0.0</td>\n",
              "      <td>0.778</td>\n",
              "      <td>0.000</td>\n",
              "      <td>0.000</td>\n",
              "      <td>3.756</td>\n",
              "      <td>61</td>\n",
              "      <td>278</td>\n",
              "      <td>1</td>\n",
              "    </tr>\n",
              "    <tr>\n",
              "      <th>1</th>\n",
              "      <td>0.21</td>\n",
              "      <td>0.28</td>\n",
              "      <td>0.50</td>\n",
              "      <td>0.0</td>\n",
              "      <td>0.14</td>\n",
              "      <td>0.28</td>\n",
              "      <td>0.21</td>\n",
              "      <td>0.07</td>\n",
              "      <td>0.00</td>\n",
              "      <td>0.94</td>\n",
              "      <td>...</td>\n",
              "      <td>0.00</td>\n",
              "      <td>0.132</td>\n",
              "      <td>0.0</td>\n",
              "      <td>0.372</td>\n",
              "      <td>0.180</td>\n",
              "      <td>0.048</td>\n",
              "      <td>5.114</td>\n",
              "      <td>101</td>\n",
              "      <td>1028</td>\n",
              "      <td>1</td>\n",
              "    </tr>\n",
              "    <tr>\n",
              "      <th>2</th>\n",
              "      <td>0.06</td>\n",
              "      <td>0.00</td>\n",
              "      <td>0.71</td>\n",
              "      <td>0.0</td>\n",
              "      <td>1.23</td>\n",
              "      <td>0.19</td>\n",
              "      <td>0.19</td>\n",
              "      <td>0.12</td>\n",
              "      <td>0.64</td>\n",
              "      <td>0.25</td>\n",
              "      <td>...</td>\n",
              "      <td>0.01</td>\n",
              "      <td>0.143</td>\n",
              "      <td>0.0</td>\n",
              "      <td>0.276</td>\n",
              "      <td>0.184</td>\n",
              "      <td>0.010</td>\n",
              "      <td>9.821</td>\n",
              "      <td>485</td>\n",
              "      <td>2259</td>\n",
              "      <td>1</td>\n",
              "    </tr>\n",
              "    <tr>\n",
              "      <th>3</th>\n",
              "      <td>0.00</td>\n",
              "      <td>0.00</td>\n",
              "      <td>0.00</td>\n",
              "      <td>0.0</td>\n",
              "      <td>0.63</td>\n",
              "      <td>0.00</td>\n",
              "      <td>0.31</td>\n",
              "      <td>0.63</td>\n",
              "      <td>0.31</td>\n",
              "      <td>0.63</td>\n",
              "      <td>...</td>\n",
              "      <td>0.00</td>\n",
              "      <td>0.137</td>\n",
              "      <td>0.0</td>\n",
              "      <td>0.137</td>\n",
              "      <td>0.000</td>\n",
              "      <td>0.000</td>\n",
              "      <td>3.537</td>\n",
              "      <td>40</td>\n",
              "      <td>191</td>\n",
              "      <td>1</td>\n",
              "    </tr>\n",
              "    <tr>\n",
              "      <th>4</th>\n",
              "      <td>0.00</td>\n",
              "      <td>0.00</td>\n",
              "      <td>0.00</td>\n",
              "      <td>0.0</td>\n",
              "      <td>0.63</td>\n",
              "      <td>0.00</td>\n",
              "      <td>0.31</td>\n",
              "      <td>0.63</td>\n",
              "      <td>0.31</td>\n",
              "      <td>0.63</td>\n",
              "      <td>...</td>\n",
              "      <td>0.00</td>\n",
              "      <td>0.135</td>\n",
              "      <td>0.0</td>\n",
              "      <td>0.135</td>\n",
              "      <td>0.000</td>\n",
              "      <td>0.000</td>\n",
              "      <td>3.537</td>\n",
              "      <td>40</td>\n",
              "      <td>191</td>\n",
              "      <td>1</td>\n",
              "    </tr>\n",
              "    <tr>\n",
              "      <th>5</th>\n",
              "      <td>0.00</td>\n",
              "      <td>0.00</td>\n",
              "      <td>0.00</td>\n",
              "      <td>0.0</td>\n",
              "      <td>1.85</td>\n",
              "      <td>0.00</td>\n",
              "      <td>0.00</td>\n",
              "      <td>1.85</td>\n",
              "      <td>0.00</td>\n",
              "      <td>0.00</td>\n",
              "      <td>...</td>\n",
              "      <td>0.00</td>\n",
              "      <td>0.223</td>\n",
              "      <td>0.0</td>\n",
              "      <td>0.000</td>\n",
              "      <td>0.000</td>\n",
              "      <td>0.000</td>\n",
              "      <td>3.000</td>\n",
              "      <td>15</td>\n",
              "      <td>54</td>\n",
              "      <td>1</td>\n",
              "    </tr>\n",
              "  </tbody>\n",
              "</table>\n",
              "<p>6 rows × 58 columns</p>\n",
              "</div>\n",
              "    <div class=\"colab-df-buttons\">\n",
              "\n",
              "  <div class=\"colab-df-container\">\n",
              "    <button class=\"colab-df-convert\" onclick=\"convertToInteractive('df-4fda880e-0a05-48ff-8f2d-ed59193efec6')\"\n",
              "            title=\"Convert this dataframe to an interactive table.\"\n",
              "            style=\"display:none;\">\n",
              "\n",
              "  <svg xmlns=\"http://www.w3.org/2000/svg\" height=\"24px\" viewBox=\"0 -960 960 960\">\n",
              "    <path d=\"M120-120v-720h720v720H120Zm60-500h600v-160H180v160Zm220 220h160v-160H400v160Zm0 220h160v-160H400v160ZM180-400h160v-160H180v160Zm440 0h160v-160H620v160ZM180-180h160v-160H180v160Zm440 0h160v-160H620v160Z\"/>\n",
              "  </svg>\n",
              "    </button>\n",
              "\n",
              "  <style>\n",
              "    .colab-df-container {\n",
              "      display:flex;\n",
              "      gap: 12px;\n",
              "    }\n",
              "\n",
              "    .colab-df-convert {\n",
              "      background-color: #E8F0FE;\n",
              "      border: none;\n",
              "      border-radius: 50%;\n",
              "      cursor: pointer;\n",
              "      display: none;\n",
              "      fill: #1967D2;\n",
              "      height: 32px;\n",
              "      padding: 0 0 0 0;\n",
              "      width: 32px;\n",
              "    }\n",
              "\n",
              "    .colab-df-convert:hover {\n",
              "      background-color: #E2EBFA;\n",
              "      box-shadow: 0px 1px 2px rgba(60, 64, 67, 0.3), 0px 1px 3px 1px rgba(60, 64, 67, 0.15);\n",
              "      fill: #174EA6;\n",
              "    }\n",
              "\n",
              "    .colab-df-buttons div {\n",
              "      margin-bottom: 4px;\n",
              "    }\n",
              "\n",
              "    [theme=dark] .colab-df-convert {\n",
              "      background-color: #3B4455;\n",
              "      fill: #D2E3FC;\n",
              "    }\n",
              "\n",
              "    [theme=dark] .colab-df-convert:hover {\n",
              "      background-color: #434B5C;\n",
              "      box-shadow: 0px 1px 3px 1px rgba(0, 0, 0, 0.15);\n",
              "      filter: drop-shadow(0px 1px 2px rgba(0, 0, 0, 0.3));\n",
              "      fill: #FFFFFF;\n",
              "    }\n",
              "  </style>\n",
              "\n",
              "    <script>\n",
              "      const buttonEl =\n",
              "        document.querySelector('#df-4fda880e-0a05-48ff-8f2d-ed59193efec6 button.colab-df-convert');\n",
              "      buttonEl.style.display =\n",
              "        google.colab.kernel.accessAllowed ? 'block' : 'none';\n",
              "\n",
              "      async function convertToInteractive(key) {\n",
              "        const element = document.querySelector('#df-4fda880e-0a05-48ff-8f2d-ed59193efec6');\n",
              "        const dataTable =\n",
              "          await google.colab.kernel.invokeFunction('convertToInteractive',\n",
              "                                                    [key], {});\n",
              "        if (!dataTable) return;\n",
              "\n",
              "        const docLinkHtml = 'Like what you see? Visit the ' +\n",
              "          '<a target=\"_blank\" href=https://colab.research.google.com/notebooks/data_table.ipynb>data table notebook</a>'\n",
              "          + ' to learn more about interactive tables.';\n",
              "        element.innerHTML = '';\n",
              "        dataTable['output_type'] = 'display_data';\n",
              "        await google.colab.output.renderOutput(dataTable, element);\n",
              "        const docLink = document.createElement('div');\n",
              "        docLink.innerHTML = docLinkHtml;\n",
              "        element.appendChild(docLink);\n",
              "      }\n",
              "    </script>\n",
              "  </div>\n",
              "\n",
              "\n",
              "<div id=\"df-8b67e918-d6b1-4d32-ac74-c65107402fe7\">\n",
              "  <button class=\"colab-df-quickchart\" onclick=\"quickchart('df-8b67e918-d6b1-4d32-ac74-c65107402fe7')\"\n",
              "            title=\"Suggest charts\"\n",
              "            style=\"display:none;\">\n",
              "\n",
              "<svg xmlns=\"http://www.w3.org/2000/svg\" height=\"24px\"viewBox=\"0 0 24 24\"\n",
              "     width=\"24px\">\n",
              "    <g>\n",
              "        <path d=\"M19 3H5c-1.1 0-2 .9-2 2v14c0 1.1.9 2 2 2h14c1.1 0 2-.9 2-2V5c0-1.1-.9-2-2-2zM9 17H7v-7h2v7zm4 0h-2V7h2v10zm4 0h-2v-4h2v4z\"/>\n",
              "    </g>\n",
              "</svg>\n",
              "  </button>\n",
              "\n",
              "<style>\n",
              "  .colab-df-quickchart {\n",
              "      --bg-color: #E8F0FE;\n",
              "      --fill-color: #1967D2;\n",
              "      --hover-bg-color: #E2EBFA;\n",
              "      --hover-fill-color: #174EA6;\n",
              "      --disabled-fill-color: #AAA;\n",
              "      --disabled-bg-color: #DDD;\n",
              "  }\n",
              "\n",
              "  [theme=dark] .colab-df-quickchart {\n",
              "      --bg-color: #3B4455;\n",
              "      --fill-color: #D2E3FC;\n",
              "      --hover-bg-color: #434B5C;\n",
              "      --hover-fill-color: #FFFFFF;\n",
              "      --disabled-bg-color: #3B4455;\n",
              "      --disabled-fill-color: #666;\n",
              "  }\n",
              "\n",
              "  .colab-df-quickchart {\n",
              "    background-color: var(--bg-color);\n",
              "    border: none;\n",
              "    border-radius: 50%;\n",
              "    cursor: pointer;\n",
              "    display: none;\n",
              "    fill: var(--fill-color);\n",
              "    height: 32px;\n",
              "    padding: 0;\n",
              "    width: 32px;\n",
              "  }\n",
              "\n",
              "  .colab-df-quickchart:hover {\n",
              "    background-color: var(--hover-bg-color);\n",
              "    box-shadow: 0 1px 2px rgba(60, 64, 67, 0.3), 0 1px 3px 1px rgba(60, 64, 67, 0.15);\n",
              "    fill: var(--button-hover-fill-color);\n",
              "  }\n",
              "\n",
              "  .colab-df-quickchart-complete:disabled,\n",
              "  .colab-df-quickchart-complete:disabled:hover {\n",
              "    background-color: var(--disabled-bg-color);\n",
              "    fill: var(--disabled-fill-color);\n",
              "    box-shadow: none;\n",
              "  }\n",
              "\n",
              "  .colab-df-spinner {\n",
              "    border: 2px solid var(--fill-color);\n",
              "    border-color: transparent;\n",
              "    border-bottom-color: var(--fill-color);\n",
              "    animation:\n",
              "      spin 1s steps(1) infinite;\n",
              "  }\n",
              "\n",
              "  @keyframes spin {\n",
              "    0% {\n",
              "      border-color: transparent;\n",
              "      border-bottom-color: var(--fill-color);\n",
              "      border-left-color: var(--fill-color);\n",
              "    }\n",
              "    20% {\n",
              "      border-color: transparent;\n",
              "      border-left-color: var(--fill-color);\n",
              "      border-top-color: var(--fill-color);\n",
              "    }\n",
              "    30% {\n",
              "      border-color: transparent;\n",
              "      border-left-color: var(--fill-color);\n",
              "      border-top-color: var(--fill-color);\n",
              "      border-right-color: var(--fill-color);\n",
              "    }\n",
              "    40% {\n",
              "      border-color: transparent;\n",
              "      border-right-color: var(--fill-color);\n",
              "      border-top-color: var(--fill-color);\n",
              "    }\n",
              "    60% {\n",
              "      border-color: transparent;\n",
              "      border-right-color: var(--fill-color);\n",
              "    }\n",
              "    80% {\n",
              "      border-color: transparent;\n",
              "      border-right-color: var(--fill-color);\n",
              "      border-bottom-color: var(--fill-color);\n",
              "    }\n",
              "    90% {\n",
              "      border-color: transparent;\n",
              "      border-bottom-color: var(--fill-color);\n",
              "    }\n",
              "  }\n",
              "</style>\n",
              "\n",
              "  <script>\n",
              "    async function quickchart(key) {\n",
              "      const quickchartButtonEl =\n",
              "        document.querySelector('#' + key + ' button');\n",
              "      quickchartButtonEl.disabled = true;  // To prevent multiple clicks.\n",
              "      quickchartButtonEl.classList.add('colab-df-spinner');\n",
              "      try {\n",
              "        const charts = await google.colab.kernel.invokeFunction(\n",
              "            'suggestCharts', [key], {});\n",
              "      } catch (error) {\n",
              "        console.error('Error during call to suggestCharts:', error);\n",
              "      }\n",
              "      quickchartButtonEl.classList.remove('colab-df-spinner');\n",
              "      quickchartButtonEl.classList.add('colab-df-quickchart-complete');\n",
              "    }\n",
              "    (() => {\n",
              "      let quickchartButtonEl =\n",
              "        document.querySelector('#df-8b67e918-d6b1-4d32-ac74-c65107402fe7 button');\n",
              "      quickchartButtonEl.style.display =\n",
              "        google.colab.kernel.accessAllowed ? 'block' : 'none';\n",
              "    })();\n",
              "  </script>\n",
              "</div>\n",
              "\n",
              "    </div>\n",
              "  </div>\n"
            ],
            "application/vnd.google.colaboratory.intrinsic+json": {
              "type": "dataframe",
              "variable_name": "dt"
            }
          },
          "metadata": {},
          "execution_count": 2
        }
      ]
    },
    {
      "cell_type": "markdown",
      "source": [
        "###2.The dependent variable is \"spam\" where one indicates that an email is spam and zero otherwise.  Which three variables in the dataset do you think will be important predictors in a model of spam?  Why?"
      ],
      "metadata": {
        "id": "2Fk-jVxTkJUn"
      }
    },
    {
      "cell_type": "markdown",
      "source": [
        "1.   capital_run_length_average\n",
        "2.   word_freq_george\n",
        "3.   char_freq_!\n",
        "\n",
        "Intuitively, the spam emails want to get attention from people with the sepecial symbols like ! and capitalized words. In the text file of variables' infomation, it's said that the word 'george' and the area code '650' are indicators of non spam, so this variable would be also the good predictor whether the email is spam or not.\n",
        "\n"
      ],
      "metadata": {
        "id": "ajAawg2nki_x"
      }
    },
    {
      "cell_type": "markdown",
      "source": [
        "###3.Visualize the univariate distribution of each of the variables in the previous question.  \n",
        "\n"
      ],
      "metadata": {
        "id": "Y8avIY10mRbP"
      }
    },
    {
      "cell_type": "code",
      "source": [
        "import matplotlib.pyplot as plt\n",
        "import seaborn as sns\n",
        "category_counts = dt['spam'].value_counts()\n",
        "plt.pie(category_counts, labels=category_counts.index, autopct='%1.1f%%')\n",
        "plt.title(\"Proportion of Spam\")\n",
        "plt.show()"
      ],
      "metadata": {
        "colab": {
          "base_uri": "https://localhost:8080/",
          "height": 428
        },
        "id": "FTcFZQfmE5LN",
        "outputId": "ab299724-a2b9-4a6e-fdde-9a75633e4c26"
      },
      "execution_count": 3,
      "outputs": [
        {
          "output_type": "display_data",
          "data": {
            "text/plain": [
              "<Figure size 640x480 with 1 Axes>"
            ],
            "image/png": "[encoded data removed]"
          },
          "metadata": {}
        }
      ]
    },
    {
      "cell_type": "code",
      "source": [
        "sns.boxplot(dt['capital_run_length_average:'])\n",
        "plt.title('Average uninterrupted sequences of capital letters')\n",
        "plt.show()"
      ],
      "metadata": {
        "colab": {
          "base_uri": "https://localhost:8080/",
          "height": 433
        },
        "id": "45_wGgd4mW3G",
        "outputId": "d0cfe5e8-32a3-44ed-884c-81b078387520"
      },
      "execution_count": null,
      "outputs": [
        {
          "output_type": "display_data",
          "data": {
            "text/plain": [
              "<Figure size 640x480 with 1 Axes>"
            ],
            "image/png": "[encoded data removed]"
          },
          "metadata": {}
        }
      ]
    },
    {
      "cell_type": "code",
      "source": [
        "sns.histplot(dt['word_freq_george:'], bins=30, kde=False)\n",
        "plt.title(\"Frequency of word george\")\n",
        "plt.xlabel(\"Number of word george\")\n",
        "plt.ylabel(\"Frequency\")\n",
        "plt.show()"
      ],
      "metadata": {
        "colab": {
          "base_uri": "https://localhost:8080/",
          "height": 472
        },
        "outputId": "171de597-be99-447d-830c-744813ec4294",
        "id": "6l1_1eXMoH62"
      },
      "execution_count": null,
      "outputs": [
        {
          "output_type": "display_data",
          "data": {
            "text/plain": [
              "<Figure size 640x480 with 1 Axes>"
            ],
            "image/png": "[encoded data removed]"
          },
          "metadata": {}
        }
      ]
    },
    {
      "cell_type": "code",
      "source": [
        "sns.boxplot(dt['char_freq_!:'])\n",
        "plt.title('Frequency of !')\n",
        "plt.show()"
      ],
      "metadata": {
        "colab": {
          "base_uri": "https://localhost:8080/",
          "height": 433
        },
        "id": "I3zyvzm0pkPb",
        "outputId": "78d62ae1-9d6d-4c37-9b66-c8f2418835e9"
      },
      "execution_count": null,
      "outputs": [
        {
          "output_type": "display_data",
          "data": {
            "text/plain": [
              "<Figure size 640x480 with 1 Axes>"
            ],
            "image/png": "[encoded data removed]"
          },
          "metadata": {}
        }
      ]
    },
    {
      "cell_type": "markdown",
      "source": [
        "###4.Choose one model from Part A Question 4.  Split the data into training and test subsets.  Build a model with the three variables in the dataset that you think will be good predictors of \"spam\". Run the model and evaluate prediction error using k-fold cross-validation. Describe why you chose any particular parameters for your model (e.g., if you used KNN how did you decide to choose a specific value for k)."
      ],
      "metadata": {
        "id": "jZy-02gFp0wq"
      }
    },
    {
      "cell_type": "code",
      "source": [
        "from sklearn.model_selection import train_test_split\n",
        "import numpy as np\n",
        "y=dt['spam']\n",
        "x=dt[['capital_run_length_average:','word_freq_george:','char_freq_!:']]\n",
        "X_train, X_test, y_train, y_test = train_test_split(x, y,random_state=42)\n",
        "print(X_train.shape)\n",
        "print(X_test.shape)"
      ],
      "metadata": {
        "colab": {
          "base_uri": "https://localhost:8080/"
        },
        "id": "G3Zu0h06qEis",
        "outputId": "b0e54e8e-65e9-4744-d6d1-1ecfcd288aa0"
      },
      "execution_count": null,
      "outputs": [
        {
          "output_type": "stream",
          "name": "stdout",
          "text": [
            "(3450, 3)\n",
            "(1151, 3)\n"
          ]
        }
      ]
    },
    {
      "cell_type": "code",
      "source": [
        "from scipy.stats import skew, kurtosis\n",
        "print(\"Skewness:\", skew(dt['spam']))\n",
        "print(\"Kurtosis:\", kurtosis(dt['spam']))"
      ],
      "metadata": {
        "colab": {
          "base_uri": "https://localhost:8080/"
        },
        "id": "19ctWzZjt4ew",
        "outputId": "724669ed-4cd3-4f87-f14c-172cdbd1d4b4"
      },
      "execution_count": null,
      "outputs": [
        {
          "output_type": "stream",
          "name": "stdout",
          "text": [
            "Skewness: 0.4336699490231419\n",
            "Kurtosis: -1.8119303753142655\n"
          ]
        }
      ]
    },
    {
      "cell_type": "code",
      "source": [
        "from sklearn.neighbors import KNeighborsClassifier\n",
        "from sklearn.model_selection import GridSearchCV\n",
        "from sklearn.model_selection import cross_val_score\n",
        "from sklearn.metrics import f1_score\n",
        "KNN=KNeighborsClassifier()\n",
        "pg={'n_neighbors': np.arange(1, 15, 2)}\n",
        "gd=GridSearchCV(KNN, pg, cv=5,scoring='f1')\n",
        "gd.fit(X_train,y_train)\n",
        "print(\"Best cross-validation score: \", gd.best_score_)\n",
        "print(\"Best parameters: {}\".format(gd.best_params_))\n",
        "print(\"Test-set score: {:.3f}\".format(gd.score(X_test, y_test)))"
      ],
      "metadata": {
        "colab": {
          "base_uri": "https://localhost:8080/"
        },
        "id": "fJqknwV40vcl",
        "outputId": "4b20066f-ce93-4b25-9fc0-90cdd5e256ed"
      },
      "execution_count": null,
      "outputs": [
        {
          "output_type": "stream",
          "name": "stdout",
          "text": [
            "Best cross-validation score:  0.8205802044170787\n",
            "Best parameters: {'n_neighbors': 5}\n",
            "Test-set score: 0.836\n"
          ]
        }
      ]
    },
    {
      "cell_type": "markdown",
      "source": [
        "I will use k=5, because this dataset is not large. This performs well as k=10 but more time saving.\n",
        "\n",
        "The best mean cross-validation score here is 0.82.\n",
        "\n",
        "The best parameters I will use is n neighbors of 5 which can give me the best f1 score."
      ],
      "metadata": {
        "id": "TmTOwXSE3-Je"
      }
    },
    {
      "cell_type": "markdown",
      "source": [
        "###5.Repeat the previous question but with a different model from Part A Question 4."
      ],
      "metadata": {
        "id": "PxJFw-vovrR5"
      }
    },
    {
      "cell_type": "code",
      "source": [
        "from sklearn.linear_model import LogisticRegression\n",
        "logreg=LogisticRegression(penalty=None,max_iter=10000)\n",
        "pg1={'solver': ['newton-cg', 'lbfgs', 'sag', 'saga'] }\n",
        "gd1=GridSearchCV(logreg, pg1, cv=5,scoring='f1')\n",
        "gd1.fit(X_train,y_train)\n",
        "print(\"Best cross-validation score:\", gd1.best_score_)\n",
        "print(\"Best parameters: {}\".format(gd1.best_params_))\n",
        "print(\"Test-set score: {:.3f}\".format(gd1.score(X_test, y_test)))"
      ],
      "metadata": {
        "colab": {
          "base_uri": "https://localhost:8080/"
        },
        "id": "R25McuxWv-_g",
        "outputId": "c08ab57d-a109-46ee-f7a9-a03c5f3c3ce4"
      },
      "execution_count": null,
      "outputs": [
        {
          "output_type": "stream",
          "name": "stdout",
          "text": [
            "Best cross-validation score:  0.7962211996245013\n",
            "Best parameters: {'solver': 'newton-cg'}\n",
            "Test-set score: 0.812\n"
          ]
        }
      ]
    },
    {
      "cell_type": "markdown",
      "source": [
        "The best mean score of 5 fold cross validation is 0.796.\n",
        "\n",
        "I used max_iter=10000 to extend the limit of iterations to adapt to the model. The parameter I will use for the model is solver:\"newton-cg\" that gives me best f1 score."
      ],
      "metadata": {
        "id": "Z7wlDceD8VEq"
      }
    },
    {
      "cell_type": "markdown",
      "source": [
        "###6.Repeat the previous question but with a different model from Part A Question 4."
      ],
      "metadata": {
        "id": "wta1q_ldwQWr"
      }
    },
    {
      "cell_type": "code",
      "source": [
        "from sklearn.svm import SVC\n",
        "from sklearn.metrics import accuracy_score\n",
        "SVCm = SVC(kernel='linear')\n",
        "pg2={'C': [0.1, 1, 10, 100]}\n",
        "gd2=GridSearchCV(SVCm,pg2,cv=5,scoring='f1')\n",
        "gd2.fit(X_train,y_train)\n",
        "print(\"Best cross-validation score:\", gd2.best_score_)\n",
        "print(\"Best parameters: {}\".format(gd2.best_params_))\n",
        "print(\"Test-set score: {:.3f}\".format(gd2.score(X_test, y_test)))"
      ],
      "metadata": {
        "colab": {
          "base_uri": "https://localhost:8080/"
        },
        "id": "i5m3GsNywX6R",
        "outputId": "4b8883ef-130b-49dc-8c13-97615c35879a"
      },
      "execution_count": null,
      "outputs": [
        {
          "output_type": "stream",
          "name": "stdout",
          "text": [
            "Best cross-validation score: 0.80887770543364\n",
            "Best parameters: {'C': 100}\n",
            "Test-set score: 0.820\n"
          ]
        }
      ]
    },
    {
      "cell_type": "markdown",
      "source": [
        "The best mean cross validation score is 0.809.\n",
        "\n",
        "The parameters I use for the model is C=100 for regularization that can give me the best f1 score."
      ],
      "metadata": {
        "id": "TrFGVY5kAVpG"
      }
    },
    {
      "cell_type": "markdown",
      "source": [
        "###7.Repeat the previous question but with a different model from Part A Question 4."
      ],
      "metadata": {
        "id": "IYrE2dPPybGN"
      }
    },
    {
      "cell_type": "code",
      "source": [
        "from sklearn.tree import DecisionTreeClassifier\n",
        "tree = DecisionTreeClassifier()\n",
        "pg3={'max_depth': [None, 10, 20, 30],\n",
        "    'min_samples_split': [2, 5, 10],\n",
        "      'min_samples_leaf': [1, 2, 4]}\n",
        "gd3=GridSearchCV(tree,pg3,cv=5,scoring='f1')\n",
        "gd3.fit(X_train, y_train)\n",
        "print(\"Best cross-validation score:\", gd3.best_score_)\n",
        "print(\"Best parameters: {}\".format(gd3.best_params_))\n",
        "print(\"Test-set score: {:.3f}\".format(gd3.score(X_test, y_test)))"
      ],
      "metadata": {
        "colab": {
          "base_uri": "https://localhost:8080/"
        },
        "id": "H9FVEqqlyY7h",
        "outputId": "ff2bb86f-1683-4085-ff48-22c12a484a3f"
      },
      "execution_count": null,
      "outputs": [
        {
          "output_type": "stream",
          "name": "stdout",
          "text": [
            "Best cross-validation score: 0.8438602236702344\n",
            "Best parameters: {'max_depth': 10, 'min_samples_leaf': 1, 'min_samples_split': 2}\n",
            "Test-set score: 0.836\n"
          ]
        }
      ]
    },
    {
      "cell_type": "markdown",
      "source": [
        "The best mean cross-validation score is 0.844.\n",
        "\n",
        "The parameter I will use for the model will be 'max_depth': 10, 'min_samples_leaf': 1, 'min_samples_split': 2 which can give me the best f1 score."
      ],
      "metadata": {
        "id": "y6tO_zbUB5T9"
      }
    },
    {
      "cell_type": "markdown",
      "source": [
        "###8.Now rerun all 4 models with 3 additional variables that you think will help the prediction accuracy. Did this cause the performance to improve over your previous models?"
      ],
      "metadata": {
        "id": "oSrDPhZXzie4"
      }
    },
    {
      "cell_type": "code",
      "source": [
        "y1=dt['spam']\n",
        "x1=dt[['capital_run_length_average:','word_freq_george:','char_freq_!:','word_freq_internet:','word_freq_our:','char_freq_$:']]\n",
        "X_train, X_test, y_train, y_test = train_test_split(x1, y1,random_state=42)\n",
        "print(X_train.shape)\n",
        "print(X_test.shape)"
      ],
      "metadata": {
        "colab": {
          "base_uri": "https://localhost:8080/"
        },
        "id": "HVntFN1UzrmO",
        "outputId": "e4d0fc7a-ef97-4f3a-83b3-a672e03e9f90"
      },
      "execution_count": null,
      "outputs": [
        {
          "output_type": "stream",
          "name": "stdout",
          "text": [
            "(3450, 6)\n",
            "(1151, 6)\n"
          ]
        }
      ]
    },
    {
      "cell_type": "code",
      "source": [
        "KNN1=KNeighborsClassifier()\n",
        "pg4={'n_neighbors': np.arange(1, 15, 2)}\n",
        "gd4=GridSearchCV(KNN1, pg4, cv=5,scoring='f1')\n",
        "gd4.fit(X_train,y_train)\n",
        "print(\"KNN Best cross-validation score:\", gd4.best_score_)\n",
        "print(\"KNN Best parameters: {}\".format(gd.best_params_))\n",
        "print(\"KNN Test-set score: {:.3f}\".format(gd.score(X_test, y_test)))\n",
        "\n",
        "logreg1=LogisticRegression(penalty=None,max_iter=10000)\n",
        "pg5={'solver': ['newton-cg', 'lbfgs', 'sag', 'saga'] }\n",
        "gd5=GridSearchCV(logreg1, pg5, cv=5,scoring='f1')\n",
        "gd5.fit(X_train,y_train)\n",
        "print(\"Logistic Best cross-validation score:\",gd5.best_score_)\n",
        "print(\"Logistic Best parameters: {}\".format(gd5.best_params_))\n",
        "print(\"Logistic Test-set score: {:.3f}\".format(gd5.score(X_test, y_test)))\n",
        "\n",
        "SVCm1 = SVC(kernel='linear')\n",
        "pg6={'C': [0.1, 1, 10, 100]}\n",
        "gd6=GridSearchCV(SVCm1,pg6,cv=5,scoring='f1')\n",
        "gd6.fit(X_train,y_train)\n",
        "print(\"SVC Best cross-validation score:\",gd6.best_score_)\n",
        "print(\"SVC Best parameters: {}\".format(gd5.best_params_))\n",
        "print(\"SVC Test-set score: {:.3f}\".format(gd5.score(X_test, y_test)))\n",
        "\n",
        "\n",
        "tree1 = DecisionTreeClassifier()\n",
        "pg7={'max_depth': [None, 10, 20, 30],\n",
        "    'min_samples_split': [2, 5, 10],\n",
        "      'min_samples_leaf': [1, 2, 4]}\n",
        "gd7=GridSearchCV(tree1,pg7,cv=5,scoring='f1')\n",
        "gd7.fit(X_train, y_train)\n",
        "print(\"Decision Tree Best cross-validation score:\", gd7.best_score_)\n",
        "print(\"Decision Tree Best parameters: {}\".format(gd7.best_params_))\n",
        "print(\"Decision Tree Test-set score: {:.3f}\".format(gd7.score(X_test, y_test)))"
      ],
      "metadata": {
        "colab": {
          "base_uri": "https://localhost:8080/"
        },
        "id": "g9YMDqrh0p-2",
        "outputId": "38d27bd9-b89d-4557-fac7-b27673385ffd"
      },
      "execution_count": null,
      "outputs": [
        {
          "output_type": "stream",
          "name": "stdout",
          "text": [
            "KNN Best cross-validation score: 0.8205802044170787\n",
            "KNN Best parameters: {'n_neighbors': 5}\n",
            "KNN Test-set score: 0.836\n",
            "Logistic Best cross-validation score: 0.7962211996245013\n",
            "Logistic Best parameters: {'solver': 'newton-cg'}\n",
            "Logistic Test-set score: 0.812\n",
            "SVC Best cross-validation score: 0.80887770543364\n",
            "SVC Best parameters: {'solver': 'newton-cg'}\n",
            "SVC Test-set score: 0.812\n",
            "Decision Tree Best cross-validation score: 0.8424328209264689\n",
            "Decision Tree Best parameters: {'max_depth': 10, 'min_samples_leaf': 1, 'min_samples_split': 10}\n",
            "Decision Tree Test-set score: 0.831\n"
          ]
        }
      ]
    },
    {
      "cell_type": "markdown",
      "source": [
        "Not really. I found for KNN and Logistical model, the test scores are not changed. The test scores of SVC and decision tree, unexpectedly decrease. It may be because three extra variabes I added are unimportant or redundant to the model prediction ."
      ],
      "metadata": {
        "id": "mfqNlqaAIuc0"
      }
    },
    {
      "cell_type": "markdown",
      "source": [
        "##9.What is a variable that isn't available in this dataset but you think could increase your final model's predictive power if you had it? Why do you think it would improve your model?"
      ],
      "metadata": {
        "id": "ihwsX3BdUEY4"
      }
    },
    {
      "cell_type": "markdown",
      "source": [
        "I think Word frequences of \"Urgent\", \"Warning\", \"Final\", \"Risk\",\"Prize\",\"Password\",\"Verify\" are also important features that may help predict spam emails.These words may attract people's attention and are more easily to be in the trap if the spam is about asking private imformantion of their bank, address.\n",
        "\n",
        "And I think email frequencies also matter because spam email may be sent more often than other marketing emails in order to call the attention on them."
      ],
      "metadata": {
        "id": "-Qd5n5qcJ1wH"
      }
    }
  ]
}